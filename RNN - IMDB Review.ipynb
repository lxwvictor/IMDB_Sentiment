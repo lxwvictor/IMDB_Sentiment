{
 "cells": [
  {
   "cell_type": "markdown",
   "metadata": {},
   "source": [
    "# RNN - IMDB Review\n",
    "This project is to use RNN to explore the sentiment analysis using IMDB dataset.\n",
    "\n",
    "Keras comes with few built-in datasets and IMDB review is one of them. It's easy to use this dataset as there is no text prepressing needed."
   ]
  },
  {
   "cell_type": "markdown",
   "metadata": {},
   "source": [
    "## Load and take a peak on IMDB dataset"
   ]
  },
  {
   "cell_type": "markdown",
   "metadata": {},
   "source": [
    "More details of the dataset can be found [here](https://keras.io/datasets/)"
   ]
  },
  {
   "cell_type": "code",
   "execution_count": 30,
   "metadata": {},
   "outputs": [
    {
     "name": "stdout",
     "output_type": "stream",
     "text": [
      "1.3.0\n",
      "2.0.8\n"
     ]
    }
   ],
   "source": [
    "import keras\n",
    "import tensorflow as tf\n",
    "import numpy as np\n",
    "from keras import datasets, layers, utils\n",
    "\n",
    "# To reproduce the same result\n",
    "np.random.seed(0)\n",
    "tf.set_random_seed(0)\n",
    "\n",
    "print(tf.__version__)\n",
    "print(keras.__version__)"
   ]
  },
  {
   "cell_type": "code",
   "execution_count": 31,
   "metadata": {},
   "outputs": [
    {
     "data": {
      "text/plain": [
       "['__builtins__',\n",
       " '__cached__',\n",
       " '__doc__',\n",
       " '__file__',\n",
       " '__loader__',\n",
       " '__name__',\n",
       " '__package__',\n",
       " '__path__',\n",
       " '__spec__',\n",
       " 'absolute_import',\n",
       " 'boston_housing',\n",
       " 'cifar',\n",
       " 'cifar10',\n",
       " 'cifar100',\n",
       " 'imdb',\n",
       " 'mnist',\n",
       " 'reuters']"
      ]
     },
     "execution_count": 31,
     "metadata": {},
     "output_type": "execute_result"
    }
   ],
   "source": [
    "dir(datasets)"
   ]
  },
  {
   "cell_type": "code",
   "execution_count": 32,
   "metadata": {},
   "outputs": [
    {
     "name": "stdout",
     "output_type": "stream",
     "text": [
      "['__builtins__', '__cached__', '__doc__', '__file__', '__loader__', '__name__', '__package__', '__spec__', '_remove_long_seq', 'absolute_import', 'get_file', 'get_word_index', 'json', 'load_data', 'np', 'warnings', 'zip']\n",
      "Loads the IMDB dataset.\n",
      "\n",
      "    # Arguments\n",
      "        path: where to cache the data (relative to `~/.keras/dataset`).\n",
      "        num_words: max number of words to include. Words are ranked\n",
      "            by how often they occur (in the training set) and only\n",
      "            the most frequent words are kept\n",
      "        skip_top: skip the top N most frequently occurring words\n",
      "            (which may not be informative).\n",
      "        maxlen: truncate sequences after this length.\n",
      "        seed: random seed for sample shuffling.\n",
      "        start_char: The start of a sequence will be marked with this character.\n",
      "            Set to 1 because 0 is usually the padding character.\n",
      "        oov_char: words that were cut out because of the `num_words`\n",
      "            or `skip_top` limit will be replaced with this character.\n",
      "        index_from: index actual words with this index and higher.\n",
      "\n",
      "    # Returns\n",
      "        Tuple of Numpy arrays: `(x_train, y_train), (x_test, y_test)`.\n",
      "\n",
      "    # Raises\n",
      "        ValueError: in case `maxlen` is so low\n",
      "            that no input sequence could be kept.\n",
      "\n",
      "    Note that the 'out of vocabulary' character is only used for\n",
      "    words that were present in the training set but are not included\n",
      "    because they're not making the `num_words` cut here.\n",
      "    Words that were not seen in the training set but are in the test set\n",
      "    have simply been skipped.\n",
      "    \n"
     ]
    }
   ],
   "source": [
    "imdb = datasets.imdb\n",
    "print(dir(imdb))\n",
    "print(imdb.load_data.__doc__)"
   ]
  },
  {
   "cell_type": "code",
   "execution_count": 33,
   "metadata": {},
   "outputs": [
    {
     "name": "stdout",
     "output_type": "stream",
     "text": [
      "Shape of x_train:  (25000,)\n",
      "Shape of y_train:  (25000,)\n",
      "Shape of x_test:  (25000,)\n",
      "Shape of y_test:  (25000,)\n"
     ]
    }
   ],
   "source": [
    "# Get the top 5000 words\n",
    "(x_train, y_train), (x_test, y_test) = imdb.load_data(num_words=5000, seed=0)\n",
    "print(\"Shape of x_train: \", x_train.shape)\n",
    "print(\"Shape of y_train: \", y_train.shape)\n",
    "print(\"Shape of x_test: \", x_test.shape)\n",
    "print(\"Shape of y_test: \", y_test.shape)\n",
    "X = np.concatenate((x_train, x_test), axis=0)\n",
    "y = np.concatenate((y_train, y_test), axis=0)"
   ]
  },
  {
   "cell_type": "code",
   "execution_count": 34,
   "metadata": {},
   "outputs": [
    {
     "name": "stdout",
     "output_type": "stream",
     "text": [
      "Index:\n",
      " [1, 4078, 2, 9, 448, 725, 4, 2, 241, 2, 241, 38, 111, 2, 500, 40, 91, 374, 500, 679, 102, 13, 62, 135, 4, 2159, 92, 2, 83, 6, 275, 3449, 66, 73, 5, 15, 271, 18, 14, 31, 99, 2149, 10, 10, 225, 6, 184, 196, 2, 63, 2568, 5, 732, 4, 863, 18, 4, 65, 5, 4, 1397, 1111, 23, 63, 6, 564, 4892, 2, 5, 27, 476, 577, 2, 2, 2, 5, 492, 2, 2, 2, 216, 8, 847, 83, 4, 2, 92, 168, 32, 99, 2575, 5, 515, 195, 481, 2017, 9, 348, 44, 4, 2, 23, 4, 1111, 8, 789, 2, 280, 4, 2, 517, 2, 10, 10, 1958, 5, 1364, 183, 380, 8, 140, 2, 5, 263, 2, 140, 23, 6, 1973, 3318, 187, 4, 3450, 8, 1974, 618, 51, 9, 1448, 23, 14, 2, 1111, 19, 94, 680, 2, 21, 11, 882, 25, 80, 24, 1414, 19, 803, 170, 23, 17, 2, 5, 2447, 2953, 79, 1376, 11, 8, 2, 4, 114, 60, 53, 51, 16, 66, 3742, 12, 83, 4, 2, 7, 78, 212, 26, 94, 2, 1815, 2611, 46, 7, 4, 2, 388, 63, 43, 2266, 2, 2, 33, 94, 2099, 3002, 366, 45, 1852, 76, 303, 45, 31, 155, 269, 8, 216, 56, 5, 984, 142, 1393, 21, 160, 155, 399, 12, 4521, 5, 19, 2, 2380, 10, 10, 466, 12, 2, 11, 467, 1552, 234, 13, 104, 45, 6, 189, 20, 2, 8, 28, 15, 17, 6, 2, 2, 12, 408, 15, 220, 107, 534, 235, 19, 94, 550, 2, 8, 376, 51, 12, 494, 8, 183, 895, 8, 1261, 56, 1841, 4, 236, 891, 234, 21, 45, 6, 356, 420, 7, 99, 117, 99, 522, 10, 10, 51, 3220, 4, 20, 9, 89, 12, 1443, 2, 5, 94, 3411, 33, 4, 130, 174, 14, 9, 6, 1141, 2701, 343, 8, 353, 5, 2, 6, 1573, 606, 189, 20, 83, 142, 6, 117, 227, 1727, 11, 4, 440, 7, 2, 35, 311, 12, 679, 46, 247, 2, 21, 889, 6, 78, 2, 17, 490, 235, 4563, 643, 50, 26, 107, 771, 6, 1009, 80, 97, 25, 235, 12, 345, 2, 4, 20, 8, 6, 906, 651, 42, 1568, 25, 19, 15, 2, 547, 472, 4078, 2, 2, 53, 8, 4, 1569, 10, 10, 4, 1907, 1698, 80, 30, 94, 627, 19, 94, 361, 7, 641, 3788, 5, 2, 21, 13, 80, 30, 15, 3759, 45, 131, 24, 290, 4, 58, 38, 128, 8, 798, 14]\n",
      "Word:\n",
      " the brains and it fans moving of and am and am her plot and b just its remember b modern characters was story why of pair then and first is money bride had much to for book but as by movies utter i i music is around both and really vietnam to oscar of surprise but of their to of hey visual are really is violence ham and to be history chance and and and to works and and and saw in learn first of and then few an movies crying to sometimes that's totally foot it dead has of and are of visual in feature and true of and gave and i i opposite to contains seems sex in through and to comes and through are is blonde bears however of occurs in here's musical when it likable are as and visual film make call and not this nor have into his feelings film sorry part are movie and to texas interpretation also historical this in and of little which up when with had warrior that first of and br do must he make and gold san some br of and understand really out rules and and they make thomas stylish friends if creating get seem if by 10 looks in saw she to create back numbers not funny 10 early that miike to film and europe i i throughout that and this 4 impressed since was two if is fact on and in one for movie is and and that lines for family seen stories might film make anyway and in stupid when that tries in seems credits in glad she soap of performance unless since not if is need liked br movies over movies etc i i when larger of on it don't that six and to make lloyd they of here cast as it is appreciate interview short in classic to and is winning hell fact on first back is over far character's this of mr br and so night that modern some girl and not meets is do and movie guys might virginia cool more he seen haven't is missing into could have might that given and of on in is meet happy it's stuck have film for and slow  brains and and up in of extreme i i of villains williams into at make ends film make low br usual hysterical to and not was into at for poster if these his main of my her still in typical as\n"
     ]
    }
   ],
   "source": [
    "# Get the word to index of IMDB, then convert it to index to word\n",
    "word_index = imdb.get_word_index()\n",
    "index_word = {v:k for k, v in word_index.items()}\n",
    "\n",
    "# Convert the index to word, not so readable, but this is how NLP works\n",
    "restore_word = [index_word[i] for i in X[0]]\n",
    "print(\"Index:\\n\", X[0])\n",
    "print(\"Word:\\n\", ' '.join(restore_word))"
   ]
  },
  {
   "cell_type": "markdown",
   "metadata": {},
   "source": [
    "## Preprocessing"
   ]
  },
  {
   "cell_type": "code",
   "execution_count": 35,
   "metadata": {},
   "outputs": [
    {
     "name": "stdout",
     "output_type": "stream",
     "text": [
      "Max length of a review:  2494\n",
      "Min length of a review:  7\n",
      "There are 23% of reviews are more than 300 words\n"
     ]
    }
   ],
   "source": [
    "# The max and min length of a review in terms of the count of words\n",
    "print(\"Max length of a review: \", max(len(str) for str in X))\n",
    "print(\"Min length of a review: \", min(len(str) for str in X))\n",
    "\n",
    "# Let's use 300 as the cut-off value\n",
    "max_words = 300\n",
    "gt300 = sum(len(str) > max_words for str in X)\n",
    "print(\"There are {:.0%}\".format(gt300/len(X)), \"of reviews are more than\", max_words, \"words\")"
   ]
  },
  {
   "cell_type": "code",
   "execution_count": 36,
   "metadata": {},
   "outputs": [
    {
     "name": "stdout",
     "output_type": "stream",
     "text": [
      "[   0    0    0    0    0    0    0    0    0    0    0    0    0    0    0\n",
      "    0    0    0    0    0    0    0    0    0    0    0    0    0    0    0\n",
      "    0    0    0    0    0    0    0    0    0    0    0    0    0    0    0\n",
      "    0    0    0    0    0    0    0    0    0    0    0    0    0    0    0\n",
      "    0    0    0    0    0    0    0    0    0    0    0    0    0    0    0\n",
      "    0    0    0    0    0    0    0    0    0    0    0    0    0    0    0\n",
      "    0    0    0    0    0    0    0    0    0    0    0    0    0    0    0\n",
      "    0    0    0    0    0    0    0    0    0    0    0    0    0    0    0\n",
      "    0    0    0    0    0    0    0    0    0    0    0    0    0    0    0\n",
      "    0    0    0    0    0    0    0    0    0    0    0    0    0    0    0\n",
      "    0    0    0    0    0    0    0    0    0    0    0    0    1   14    9\n",
      "   31    7  148  102  198  269    8   30 4378    5 3094    5  305  630   56\n",
      "    2   32  120  410  260  110   12   33    6    2   22 1413   13   16 3704\n",
      "   34    4  185 1170    2  825  355  901   56  190  120   32 1054   56  179\n",
      "  685   10   10   45  254    8    2    6  283   65  237  225   24   76   15\n",
      "   70   30  224   44    4  114   21   13  258   14 4229 3650    5    2 2279\n",
      "   45  465    5  220 2950 3370    6    2  948 3174    7    4 4039   19    2\n",
      "  228    5    2  491 1969   12   43  152  157   49  139  121   38  954   15\n",
      "  305    7    2 4299   61  311   16    2    2    5 2660  523   10   10    4\n",
      "   65   47   35  221  863   21   14   43    2    2   83    6  465 4309    2]\n",
      "0\n"
     ]
    }
   ],
   "source": [
    "# Padding or truncating the reviews to limit it to 300 words\n",
    "from keras.preprocessing.sequence import pad_sequences\n",
    "X = pad_sequences(X, maxlen=max_words)\n",
    "\n",
    "# A sample of padding at the end\n",
    "print(X[2])\n",
    "print(y[2])"
   ]
  },
  {
   "cell_type": "markdown",
   "metadata": {
    "collapsed": true
   },
   "source": [
    "## Build and train the model"
   ]
  },
  {
   "cell_type": "code",
   "execution_count": 41,
   "metadata": {},
   "outputs": [
    {
     "name": "stdout",
     "output_type": "stream",
     "text": [
      "(35000, 300)\n",
      "(15000, 300)\n"
     ]
    }
   ],
   "source": [
    "from keras.models import Sequential, Model\n",
    "from keras.layers import Dense, LSTM, Dropout, Input\n",
    "from keras.layers.embeddings import Embedding\n",
    "from keras.optimizers import RMSprop, Adam\n",
    "from keras.callbacks import ModelCheckpoint, ReduceLROnPlateau, LambdaCallback, EarlyStopping\n",
    "from sklearn.model_selection import train_test_split\n",
    "import keras.backend as K\n",
    "\n",
    "#X = X.reshape(X.shape[0], X.shape[1], 1)\n",
    "X_train, X_test, y_train, y_test = train_test_split(X, y, test_size=0.3, random_state=0)\n",
    "\n",
    "print(X_train.shape)\n",
    "print(X_test.shape)\n"
   ]
  },
  {
   "cell_type": "code",
   "execution_count": 42,
   "metadata": {},
   "outputs": [
    {
     "name": "stdout",
     "output_type": "stream",
     "text": [
      "_________________________________________________________________\n",
      "Layer (type)                 Output Shape              Param #   \n",
      "=================================================================\n",
      "input_6 (InputLayer)         (None, 300)               0         \n",
      "_________________________________________________________________\n",
      "embedding_6 (Embedding)      (None, 300, 64)           320000    \n",
      "_________________________________________________________________\n",
      "lstm_9 (LSTM)                (None, 300, 100)          66000     \n",
      "_________________________________________________________________\n",
      "lstm_10 (LSTM)               (None, 100)               80400     \n",
      "_________________________________________________________________\n",
      "dropout_3 (Dropout)          (None, 100)               0         \n",
      "_________________________________________________________________\n",
      "dense_6 (Dense)              (None, 1)                 101       \n",
      "=================================================================\n",
      "Total params: 466,501\n",
      "Trainable params: 466,501\n",
      "Non-trainable params: 0\n",
      "_________________________________________________________________\n"
     ]
    }
   ],
   "source": [
    "# Size of the vacabulary\n",
    "num_top_words = 5000\n",
    "# Output Embedding dimension\n",
    "embedding_vector_len = 64\n",
    "\n",
    "inp = Input(shape=(X_train.shape[1],))\n",
    "x = Embedding(num_top_words, embedding_vector_len, input_length=max_words)(inp)\n",
    "x = LSTM(100, return_sequences=True)(x)\n",
    "x = LSTM(100)(x)\n",
    "x = Dropout(0.2)(x)\n",
    "output = Dense(1, activation='sigmoid')(x)\n",
    "\n",
    "model = Model(inputs=inp, outputs=output)\n",
    "model.summary()"
   ]
  },
  {
   "cell_type": "code",
   "execution_count": 43,
   "metadata": {
    "collapsed": true
   },
   "outputs": [],
   "source": [
    "# Even though below callback may not be necessary, still included in this project\n",
    "reduce_lr = ReduceLROnPlateau(monitor='val_loss', factor=0.9, patience=3, min_lr=0.0001)\n",
    "lr_print = LambdaCallback(on_epoch_begin=lambda epoch,logs: print(\"lr:\", K.eval(model.optimizer.lr)))\n",
    "early_stopping = EarlyStopping(monitor='val_loss',min_delta=0,patience=3,verbose=1,mode='auto')\n",
    "checkpoint = ModelCheckpoint(filepath, monitor='loss', verbose=1, save_best_only=True)\n",
    "\n",
    "filepath = 'IMDB.h5'\n",
    "model.compile(loss='binary_crossentropy', optimizer='RMSprop', metrics=['accuracy'])"
   ]
  },
  {
   "cell_type": "code",
   "execution_count": 44,
   "metadata": {},
   "outputs": [
    {
     "name": "stdout",
     "output_type": "stream",
     "text": [
      "Train on 28000 samples, validate on 7000 samples\n",
      "lr: 0.001\n",
      "Epoch 1/3\n",
      "27900/28000 [============================>.] - ETA: 0s - loss: 0.4730 - acc: 0.7782Epoch 00000: loss improved from inf to 0.47273, saving model to IMDB.h5\n",
      "28000/28000 [==============================] - 274s - loss: 0.4727 - acc: 0.7784 - val_loss: 0.3367 - val_acc: 0.8551\n",
      "lr: 0.001\n",
      "Epoch 2/3\n",
      "27900/28000 [============================>.] - ETA: 0s - loss: 0.3406 - acc: 0.8621Epoch 00001: loss improved from 0.47273 to 0.34025, saving model to IMDB.h5\n",
      "28000/28000 [==============================] - 290s - loss: 0.3403 - acc: 0.8623 - val_loss: 0.3057 - val_acc: 0.8726\n",
      "lr: 0.001\n",
      "Epoch 3/3\n",
      "27900/28000 [============================>.] - ETA: 1s - loss: 0.2801 - acc: 0.8890Epoch 00002: loss improved from 0.34025 to 0.28011, saving model to IMDB.h5\n",
      "28000/28000 [==============================] - 333s - loss: 0.2801 - acc: 0.8890 - val_loss: 0.2836 - val_acc: 0.8850\n"
     ]
    }
   ],
   "source": [
    "history = model.fit(X_train, y_train, epochs=3, batch_size = 100,\n",
    "                    callbacks=[checkpoint, reduce_lr, lr_print, early_stopping],\n",
    "                    validation_split=0.2)"
   ]
  },
  {
   "cell_type": "markdown",
   "metadata": {},
   "source": [
    "## Plot the training, validation and test accuracy"
   ]
  },
  {
   "cell_type": "code",
   "execution_count": 49,
   "metadata": {},
   "outputs": [
    {
     "data": {
      "image/png": "[encoded data removed]",
      "text/plain": [
       "<matplotlib.figure.Figure at 0x1f938f28c18>"
      ]
     },
     "metadata": {},
     "output_type": "display_data"
    }
   ],
   "source": [
    "%matplotlib inline\n",
    "import matplotlib.pyplot as plt\n",
    "def plot_train(hist):\n",
    "    h = hist.history\n",
    "    if 'acc' in h:\n",
    "        meas='acc'\n",
    "        loc='lower right'\n",
    "    else:\n",
    "        meas='loss'\n",
    "        loc='upper right'\n",
    "    plt.plot(hist.history[meas])\n",
    "    plt.plot(hist.history['val_'+meas])\n",
    "    plt.title('model '+meas)\n",
    "    plt.ylabel(meas)\n",
    "    plt.xlabel('epoch')\n",
    "    plt.legend(['train', 'validation'], loc=loc)\n",
    "    \n",
    "plot_train(history)"
   ]
  },
  {
   "cell_type": "code",
   "execution_count": 51,
   "metadata": {},
   "outputs": [
    {
     "name": "stdout",
     "output_type": "stream",
     "text": [
      "Test loss: 0.295858772373\n",
      "Test accuracy: 0.880800000032\n"
     ]
    }
   ],
   "source": [
    "# Test against X_test and y_test dataset.\n",
    "from keras.models import load_model\n",
    "model = load_model('IMDB.h5')\n",
    "score = model.evaluate(X_test, y_test, verbose=0)\n",
    "print('Test loss:', score[0])\n",
    "print('Test accuracy:', score[1])"
   ]
  },
  {
   "cell_type": "markdown",
   "metadata": {},
   "source": [
    "## What about model without embedding?"
   ]
  },
  {
   "cell_type": "code",
   "execution_count": 58,
   "metadata": {},
   "outputs": [
    {
     "name": "stdout",
     "output_type": "stream",
     "text": [
      "(35000, 300, 1)\n",
      "_________________________________________________________________\n",
      "Layer (type)                 Output Shape              Param #   \n",
      "=================================================================\n",
      "input_10 (InputLayer)        (None, 300, 1)            0         \n",
      "_________________________________________________________________\n",
      "lstm_14 (LSTM)               (None, 300, 100)          40800     \n",
      "_________________________________________________________________\n",
      "lstm_15 (LSTM)               (None, 100)               80400     \n",
      "_________________________________________________________________\n",
      "dropout_4 (Dropout)          (None, 100)               0         \n",
      "_________________________________________________________________\n",
      "dense_7 (Dense)              (None, 1)                 101       \n",
      "=================================================================\n",
      "Total params: 121,301\n",
      "Trainable params: 121,301\n",
      "Non-trainable params: 0\n",
      "_________________________________________________________________\n"
     ]
    }
   ],
   "source": [
    "X_train2 = X_train.reshape(X_train.shape[0], X_train.shape[1], 1)\n",
    "X_test2 = X_test.reshape(X_test.shape[0], X_test.shape[1], 1)\n",
    "inp = Input(shape=(X_train2.shape[1], X_train2.shape[2]))\n",
    "#x = Embedding(num_top_words, embedding_vector_len, input_length=max_words)(inp)\n",
    "x = LSTM(100, return_sequences=True)(inp)\n",
    "x = LSTM(100)(x)\n",
    "x = Dropout(0.2)(x)\n",
    "output = Dense(1, activation='sigmoid')(x)\n",
    "\n",
    "model = Model(inputs=inp, outputs=output)\n",
    "model.summary()"
   ]
  },
  {
   "cell_type": "code",
   "execution_count": 60,
   "metadata": {
    "collapsed": true
   },
   "outputs": [],
   "source": [
    "# Even though below callback may not be necessary, still included in this project\n",
    "reduce_lr = ReduceLROnPlateau(monitor='val_loss', factor=0.9, patience=3, min_lr=0.0001)\n",
    "lr_print = LambdaCallback(on_epoch_begin=lambda epoch,logs: print(\"lr:\", K.eval(model.optimizer.lr)))\n",
    "early_stopping = EarlyStopping(monitor='val_loss',min_delta=0,patience=3,verbose=1,mode='auto')\n",
    "checkpoint = ModelCheckpoint(filepath, monitor='loss', verbose=1, save_best_only=True)\n",
    "\n",
    "filepath = 'IMDB_wo_embedding.h5'\n",
    "model.compile(loss='binary_crossentropy', optimizer='RMSprop', metrics=['accuracy'])"
   ]
  },
  {
   "cell_type": "code",
   "execution_count": null,
   "metadata": {},
   "outputs": [
    {
     "name": "stdout",
     "output_type": "stream",
     "text": [
      "Train on 28000 samples, validate on 7000 samples\n",
      "lr: 0.001\n",
      "Epoch 1/3\n",
      "21100/28000 [=====================>........] - ETA: 65s - loss: 0.6968 - acc: 0.5134"
     ]
    }
   ],
   "source": [
    "history = model.fit(X_train2, y_train, epochs=3, batch_size = 100,\n",
    "                    callbacks=[checkpoint, reduce_lr, lr_print, early_stopping],\n",
    "                    validation_split=0.2)"
   ]
  },
  {
   "cell_type": "code",
   "execution_count": null,
   "metadata": {
    "collapsed": true
   },
   "outputs": [],
   "source": [
    "plt_train(history)\n",
    "model = load_model('IMDB_wo_embedding.h5')\n",
    "score = model.evaluate(X_test2, y_test, verbose=0)\n",
    "print('Test loss:', score[0])\n",
    "print('Test accuracy:', score[1])"
   ]
  }
 ],
 "metadata": {
  "kernelspec": {
   "display_name": "Python 3",
   "language": "python",
   "name": "python3"
  },
  "language_info": {
   "codemirror_mode": {
    "name": "ipython",
    "version": 3
   },
   "file_extension": ".py",
   "mimetype": "text/x-python",
   "name": "python",
   "nbconvert_exporter": "python",
   "pygments_lexer": "ipython3",
   "version": "3.5.4"
  }
 },
 "nbformat": 4,
 "nbformat_minor": 2
}
